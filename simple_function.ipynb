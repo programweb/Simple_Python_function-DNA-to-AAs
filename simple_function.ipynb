{
 "cells": [
  {
   "cell_type": "code",
   "execution_count": 1,
   "metadata": {},
   "outputs": [],
   "source": [
    "def translate(seq):\n",
    "   \"\"\"\n",
    "   Translate a string containing a nucleotide sequence into a string containing the corresponding sequence of amino acids.\n",
    "   Nucleotides are translated in triplets using the table dictionary; each amino acid 4 is encoded with a string of length 1.\n",
    "   \"\"\"\n",
    "   table = {\n",
    "    'ATA':'I', 'ATC':'I', 'ATT':'I', 'ATG':'M',\n",
    "    'ACA':'T', 'ACC':'T', 'ACG':'T', 'ACT':'T',\n",
    "    'AAC':'N', 'AAT':'N', 'AAA':'K', 'AAG':'K',\n",
    "    'AGC':'S', 'AGT':'S', 'AGA':'R', 'AGG':'R',\n",
    "    'CTA':'L', 'CTC':'L', 'CTG':'L', 'CTT':'L',\n",
    "    'CCA':'P', 'CCC':'P', 'CCG':'P', 'CCT':'P',\n",
    "    'CAC':'H', 'CAT':'H', 'CAA':'Q', 'CAG':'Q',\n",
    "    'CGA':'R', 'CGC':'R', 'CGG':'R', 'CGT':'R',\n",
    "    'GTA':'V', 'GTC':'V', 'GTG':'V', 'GTT':'V',\n",
    "    'GCA':'A', 'GCC':'A', 'GCG':'A', 'GCT':'A',\n",
    "    'GAC':'D', 'GAT':'D', 'GAA':'E', 'GAG':'E',\n",
    "    'GGA':'G', 'GGC':'G', 'GGG':'G', 'GGT':'G',\n",
    "    'TCA':'S', 'TCC':'S', 'TCG':'S', 'TCT':'S',\n",
    "    'TTC':'F', 'TTT':'F', 'TTA':'L', 'TTG':'L',\n",
    "    'TAC':'Y', 'TAT':'Y', 'TAA':'_', 'TAG':'_',\n",
    "    'TGC':'C', 'TGT':'C', 'TGA':'_', 'TGG':'W',\n",
    "   }\n",
    "\n",
    "   # Build a protein\n",
    "   # check sequence length divisible by 3\n",
    "   protein = ''\n",
    "   if len(seq) % 3 == 0:\n",
    "      # loop over seq\n",
    "      for i in range(0, len(seq), 3):\n",
    "         # extract a single codon\n",
    "         codon = seq[i : i+3]\n",
    "         # look up codon and store result\n",
    "         protein += table[codon]\n",
    "   else:\n",
    "        protein = 'Should be divisible by 3'\n",
    "\n",
    "   return protein"
   ]
  },
  {
   "cell_type": "code",
   "execution_count": 2,
   "metadata": {},
   "outputs": [
    {
     "name": "stdout",
     "output_type": "stream",
     "text": [
      "I\n"
     ]
    }
   ],
   "source": [
    "print( translate('ATA') ) # I"
   ]
  },
  {
   "cell_type": "code",
   "execution_count": 3,
   "metadata": {},
   "outputs": [
    {
     "name": "stdout",
     "output_type": "stream",
     "text": [
      "K\n"
     ]
    }
   ],
   "source": [
    "print( translate('AAA') ) # K"
   ]
  },
  {
   "cell_type": "code",
   "execution_count": 4,
   "metadata": {},
   "outputs": [
    {
     "name": "stdout",
     "output_type": "stream",
     "text": [
      "A\n"
     ]
    }
   ],
   "source": [
    "print( translate('GCC') ) # A"
   ]
  },
  {
   "cell_type": "code",
   "execution_count": 5,
   "metadata": {},
   "outputs": [
    {
     "name": "stdout",
     "output_type": "stream",
     "text": [
      "ACTGGGCTTG\n"
     ]
    }
   ],
   "source": [
    "seq = 'cccgcccccg cctggagtcc gacgtggaag ttgctggctg actgggcttg cgaggaaacc gcctcggagc tgcagccgaa ggccaaggaa tcactgaaga tcggcgaggg aggacagggg gttcatcatg ggtggctttt'\n",
    "#seq += '_'\n",
    "#seq += 'c'\n",
    "seq = seq.replace(' ', '').upper()\n",
    "print(seq[40:50])"
   ]
  },
  {
   "cell_type": "code",
   "execution_count": 6,
   "metadata": {},
   "outputs": [
    {
     "name": "stdout",
     "output_type": "stream",
     "text": [
      "GGTCAGAAAAAGCCCTCTCCATGTCTACTCACGATACATCCCTGAAAACCACTGAGGAAGTGGCTTTTCAGATCATCTTGCTTTGCCAGTTTGGGGTTGGGACTTTTGCCAATGTATTTCTCTTTGTCTATAATTTCTCTCCAATCTCGACTGGTTCTAAACAGAGGCCCAGACAAGTGATTTTAAGACACATGGCTGTGGCCAATGCCTTAACTCTCTTCCTCACTATATTTCCAAACAACATGATGACTTTTGCTCCAATTATTCCTCAAACTGACCTCAAATGTAAATTAGAATTCTTCACTCGCCTCGTGGCAAGAAGCACAAACTTGTGTTCAACTTGTGTTCTGAGTATCCATCAGTTTGTCACACTTGTTCCTGTTAATTCAGGTAAAGGAATACTCAGAGCAAGTGTCACAAACATGGCAAGTTATTCTTGTTACAGTTGTTGGTTCTTCAGTGTCTTAAATAACATCTACATTCCAATTAAGGTCACTGGTCCACAGTTAACAGACAATAACAATAACTCTAAAAGCAAGTTGTTCTGTTCCACTTCTGATTTCAGTGTAGGCATTGTCTTCTTGAGGTTTGCCCATGATGCCACATTCATGAGCATCATGGTCTGGACCAGTGTCTCCATGGTACTTCTCCTCCATAGACATTGTCAGAGAATGCAGTACATATTCACTCTCAATCAGGACCCCAGGGGCCAAGCAGAGACCACAGCAACCCATACTATCCTGATGCTGGTAGTCACATTTGTTGGCTTTTATCTTCTAAGTCTTATTTGTATCATCTTTTACACCTATTTTATATATTCTCATCATTCCCTGAGGCATTGCAATGACATTTTGGTTTCGGGTTTCCCTACAATTTCTCCTTTACTGTTGACCTTCAGAGACCCTAAGGGTCCTTGTTCTGTGTTCTTCAACTGTTGAAAGCCAGAGTCACTAAAAATGCCAAACACAGAAGACAGCTTTGCTAATACCATTAAATACTTTATTCCATAAATATGTTTTTAAAAGCTTGTATGAACAAGGTATGGTGCTCACTGCTATACTTATAAAAGAGTAAGGTTATAATCACTTGTTGATATGAAAAGATTTCTGGTTGGAATCTGATTGAAACAGTGAGTTATTCACCACCCTCCATTCTCTC\n"
     ]
    }
   ],
   "source": [
    "# now we will try with some real DNA\n",
    "inputfi = 'dna.txt'\n",
    "\n",
    "fi = open(inputfi, 'r')\n",
    "seq = fi.read()\n",
    "seq = seq.replace('\\n', '')\n",
    "seq = seq.replace('\\r', '')\n",
    "\n",
    "print(seq)"
   ]
  },
  {
   "cell_type": "code",
   "execution_count": 7,
   "metadata": {},
   "outputs": [
    {
     "name": "stdout",
     "output_type": "stream",
     "text": [
      "CCTGAAAACC\n"
     ]
    }
   ],
   "source": [
    "print(seq[40:50])"
   ]
  },
  {
   "cell_type": "code",
   "execution_count": 8,
   "metadata": {},
   "outputs": [
    {
     "name": "stdout",
     "output_type": "stream",
     "text": [
      "GQKKPSPCLLTIHP_KPLRKWLFRSSCFASLGLGLLPMYFSLSIISLQSRLVLNRGPDK_F_DTWLWPMP_LSSSLYFQTT__LLLQLFLKLTSNVN_NSSLASWQEAQTCVQLVF_VSISLSHLFLLIQVKEYSEQVSQTWQVILVTVVGSSVS_ITSTFQLRSLVHS_QTITITLKASCSVPLLISV_ALSS_GLPMMPHS_ASWSGPVSPWYFSSIDIVRECSTYSLSIRTPGAKQRPQQPILS_CW_SHLLAFIF_VLFVSSFTPILYILIIP_GIAMTFWFRVSLQFLLYC_PSETLRVLVLCSSTVESQSH_KCQTQKTALLIPLNTLFHKYVFKSLYEQGMVLTAILIKE_GYNHLLI_KDFWLESD_NSELFTTLHSL\n"
     ]
    }
   ],
   "source": [
    "print( translate(seq) )"
   ]
  },
  {
   "cell_type": "code",
   "execution_count": null,
   "metadata": {},
   "outputs": [],
   "source": []
  }
 ],
 "metadata": {
  "kernelspec": {
   "display_name": "Python 3",
   "language": "python",
   "name": "python3"
  },
  "language_info": {
   "codemirror_mode": {
    "name": "ipython",
    "version": 3
   },
   "file_extension": ".py",
   "mimetype": "text/x-python",
   "name": "python",
   "nbconvert_exporter": "python",
   "pygments_lexer": "ipython3",
   "version": "3.7.4"
  }
 },
 "nbformat": 4,
 "nbformat_minor": 4
}
